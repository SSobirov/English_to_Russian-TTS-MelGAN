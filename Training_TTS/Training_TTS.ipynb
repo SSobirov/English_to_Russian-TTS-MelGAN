{
  "nbformat": 4,
  "nbformat_minor": 0,
  "metadata": {
    "colab": {
      "name": "Training_TTS.ipynb",
      "provenance": [],
      "collapsed_sections": []
    },
    "kernelspec": {
      "name": "python3",
      "display_name": "Python 3"
    },
    "accelerator": "GPU"
  },
  "cells": [
    {
      "cell_type": "markdown",
      "metadata": {
        "id": "M7oHksiLA3pa",
        "colab_type": "text"
      },
      "source": [
        "This notebook is supposed to train English to Russian TTS model."
      ]
    },
    {
      "cell_type": "markdown",
      "metadata": {
        "id": "cXv3D0zQAsMH",
        "colab_type": "text"
      },
      "source": [
        "Change the runtime type to GPU. Go to Runtime menu and click \"change runtime type\"."
      ]
    },
    {
      "cell_type": "markdown",
      "metadata": {
        "id": "2qL2Al7cWXg8",
        "colab_type": "text"
      },
      "source": [
        "You can run the codes below to get pretrained English to Russian TTS model. Also, already pretrained model will be provided in \"pretrained_tts_model\". If not, it can be downloaded from GitHub https://github.com/SSobirov/English_to_Russian-TTS-MelGAN"
      ]
    },
    {
      "cell_type": "code",
      "metadata": {
        "id": "hKak0LqMQbJD",
        "colab_type": "code",
        "outputId": "9252d389-e2e6-40eb-91f5-2186560dd70a",
        "colab": {
          "base_uri": "https://localhost:8080/",
          "height": 316
        }
      },
      "source": [
        "gpu_info = !nvidia-smi\n",
        "gpu_info = '\\n'.join(gpu_info)\n",
        "if gpu_info.find('failed') >= 0:\n",
        "  print('Select the Runtime > \"Change runtime type\" menu to enable a GPU accelerator, ')\n",
        "  print('and then re-execute this cell.')\n",
        "else:\n",
        "  print(gpu_info)"
      ],
      "execution_count": 0,
      "outputs": [
        {
          "output_type": "stream",
          "text": [
            "Thu May  7 13:18:28 2020       \n",
            "+-----------------------------------------------------------------------------+\n",
            "| NVIDIA-SMI 440.82       Driver Version: 418.67       CUDA Version: 10.1     |\n",
            "|-------------------------------+----------------------+----------------------+\n",
            "| GPU  Name        Persistence-M| Bus-Id        Disp.A | Volatile Uncorr. ECC |\n",
            "| Fan  Temp  Perf  Pwr:Usage/Cap|         Memory-Usage | GPU-Util  Compute M. |\n",
            "|===============================+======================+======================|\n",
            "|   0  Tesla P100-PCIE...  Off  | 00000000:00:04.0 Off |                    0 |\n",
            "| N/A   33C    P0    25W / 250W |      0MiB / 16280MiB |      0%      Default |\n",
            "+-------------------------------+----------------------+----------------------+\n",
            "                                                                               \n",
            "+-----------------------------------------------------------------------------+\n",
            "| Processes:                                                       GPU Memory |\n",
            "|  GPU       PID   Type   Process name                             Usage      |\n",
            "|=============================================================================|\n",
            "|  No running processes found                                                 |\n",
            "+-----------------------------------------------------------------------------+\n"
          ],
          "name": "stdout"
        }
      ]
    },
    {
      "cell_type": "code",
      "metadata": {
        "id": "EOXpydOpc5hf",
        "colab_type": "code",
        "outputId": "511b346f-1d2c-4390-c151-e03f73dea6fd",
        "colab": {
          "base_uri": "https://localhost:8080/",
          "height": 1000
        }
      },
      "source": [
        "# OS setup\n",
        "!cat /etc/os-release\n",
        "!apt-get install -qq bc tree sox\n",
        "\n",
        "# espnet setup\n",
        "!git clone --depth 5 https://github.com/espnet/espnet\n",
        "!pip install -q torch==1.5\n",
        "!cd espnet; pip install -q -e .\n",
        "\n",
        "# download pre-compiled warp-ctc and kaldi tools\n",
        "!espnet/utils/download_from_google_drive.sh \\\n",
        "    \"https://drive.google.com/open?id=13Y4tSygc8WtqzvAVGK_vRV9GlV7TRC0w\" espnet/tools tar.gz > /dev/null\n",
        "!cd espnet/tools/warp-ctc/pytorch_binding && \\\n",
        "    pip install -U dist/warpctc_pytorch-0.1.1-cp36-cp36m-linux_x86_64.whl\n",
        "\n",
        "# make dummy activate\n",
        "!mkdir -p espnet/tools/venv/bin && touch espnet/tools/venv/bin/activate\n",
        "!echo \"setup done.\""
      ],
      "execution_count": 1,
      "outputs": [
        {
          "output_type": "stream",
          "text": [
            "NAME=\"Ubuntu\"\n",
            "VERSION=\"18.04.3 LTS (Bionic Beaver)\"\n",
            "ID=ubuntu\n",
            "ID_LIKE=debian\n",
            "PRETTY_NAME=\"Ubuntu 18.04.3 LTS\"\n",
            "VERSION_ID=\"18.04\"\n",
            "HOME_URL=\"https://www.ubuntu.com/\"\n",
            "SUPPORT_URL=\"https://help.ubuntu.com/\"\n",
            "BUG_REPORT_URL=\"https://bugs.launchpad.net/ubuntu/\"\n",
            "PRIVACY_POLICY_URL=\"https://www.ubuntu.com/legal/terms-and-policies/privacy-policy\"\n",
            "VERSION_CODENAME=bionic\n",
            "UBUNTU_CODENAME=bionic\n",
            "Selecting previously unselected package libopencore-amrnb0:amd64.\n",
            "(Reading database ... 144433 files and directories currently installed.)\n",
            "Preparing to unpack .../0-libopencore-amrnb0_0.1.3-2.1_amd64.deb ...\n",
            "Unpacking libopencore-amrnb0:amd64 (0.1.3-2.1) ...\n",
            "Selecting previously unselected package libopencore-amrwb0:amd64.\n",
            "Preparing to unpack .../1-libopencore-amrwb0_0.1.3-2.1_amd64.deb ...\n",
            "Unpacking libopencore-amrwb0:amd64 (0.1.3-2.1) ...\n",
            "Selecting previously unselected package libmagic-mgc.\n",
            "Preparing to unpack .../2-libmagic-mgc_1%3a5.32-2ubuntu0.4_amd64.deb ...\n",
            "Unpacking libmagic-mgc (1:5.32-2ubuntu0.4) ...\n",
            "Selecting previously unselected package libmagic1:amd64.\n",
            "Preparing to unpack .../3-libmagic1_1%3a5.32-2ubuntu0.4_amd64.deb ...\n",
            "Unpacking libmagic1:amd64 (1:5.32-2ubuntu0.4) ...\n",
            "Selecting previously unselected package bc.\n",
            "Preparing to unpack .../4-bc_1.07.1-2_amd64.deb ...\n",
            "Unpacking bc (1.07.1-2) ...\n",
            "Selecting previously unselected package libsox3:amd64.\n",
            "Preparing to unpack .../5-libsox3_14.4.2-3ubuntu0.18.04.1_amd64.deb ...\n",
            "Unpacking libsox3:amd64 (14.4.2-3ubuntu0.18.04.1) ...\n",
            "Selecting previously unselected package libsox-fmt-alsa:amd64.\n",
            "Preparing to unpack .../6-libsox-fmt-alsa_14.4.2-3ubuntu0.18.04.1_amd64.deb ...\n",
            "Unpacking libsox-fmt-alsa:amd64 (14.4.2-3ubuntu0.18.04.1) ...\n",
            "Selecting previously unselected package libsox-fmt-base:amd64.\n",
            "Preparing to unpack .../7-libsox-fmt-base_14.4.2-3ubuntu0.18.04.1_amd64.deb ...\n",
            "Unpacking libsox-fmt-base:amd64 (14.4.2-3ubuntu0.18.04.1) ...\n",
            "Selecting previously unselected package sox.\n",
            "Preparing to unpack .../8-sox_14.4.2-3ubuntu0.18.04.1_amd64.deb ...\n",
            "Unpacking sox (14.4.2-3ubuntu0.18.04.1) ...\n",
            "Selecting previously unselected package tree.\n",
            "Preparing to unpack .../9-tree_1.7.0-5_amd64.deb ...\n",
            "Unpacking tree (1.7.0-5) ...\n",
            "Setting up tree (1.7.0-5) ...\n",
            "Setting up libmagic-mgc (1:5.32-2ubuntu0.4) ...\n",
            "Setting up libmagic1:amd64 (1:5.32-2ubuntu0.4) ...\n",
            "Setting up libopencore-amrnb0:amd64 (0.1.3-2.1) ...\n",
            "Setting up bc (1.07.1-2) ...\n",
            "Setting up libopencore-amrwb0:amd64 (0.1.3-2.1) ...\n",
            "Setting up libsox3:amd64 (14.4.2-3ubuntu0.18.04.1) ...\n",
            "Setting up libsox-fmt-base:amd64 (14.4.2-3ubuntu0.18.04.1) ...\n",
            "Setting up libsox-fmt-alsa:amd64 (14.4.2-3ubuntu0.18.04.1) ...\n",
            "Setting up sox (14.4.2-3ubuntu0.18.04.1) ...\n",
            "Processing triggers for libc-bin (2.27-3ubuntu1) ...\n",
            "/sbin/ldconfig.real: /usr/local/lib/python3.6/dist-packages/ideep4py/lib/libmkldnn.so.0 is not a symbolic link\n",
            "\n",
            "Processing triggers for man-db (2.8.3-2ubuntu0.1) ...\n",
            "Processing triggers for mime-support (3.60ubuntu1) ...\n",
            "Cloning into 'espnet'...\n",
            "remote: Enumerating objects: 2187, done.\u001b[K\n",
            "remote: Counting objects: 100% (2187/2187), done.\u001b[K\n",
            "remote: Compressing objects: 100% (1726/1726), done.\u001b[K\n",
            "remote: Total 2187 (delta 629), reused 963 (delta 241), pack-reused 0\u001b[K\n",
            "Receiving objects: 100% (2187/2187), 2.51 MiB | 6.72 MiB/s, done.\n",
            "Resolving deltas: 100% (629/629), done.\n",
            "\u001b[K     |████████████████████████████████| 51kB 3.2MB/s \n",
            "\u001b[K     |████████████████████████████████| 92kB 6.1MB/s \n",
            "\u001b[K     |████████████████████████████████| 174kB 17.9MB/s \n",
            "\u001b[K     |████████████████████████████████| 890kB 18.2MB/s \n",
            "\u001b[K     |████████████████████████████████| 204kB 42.0MB/s \n",
            "\u001b[K     |████████████████████████████████| 1.6MB 41.0MB/s \n",
            "\u001b[K     |████████████████████████████████| 419kB 34.8MB/s \n",
            "\u001b[K     |████████████████████████████████| 1.0MB 43.9MB/s \n",
            "\u001b[K     |████████████████████████████████| 1.4MB 43.5MB/s \n",
            "\u001b[K     |████████████████████████████████| 276kB 38.7MB/s \n",
            "\u001b[K     |████████████████████████████████| 2.8MB 40.7MB/s \n",
            "\u001b[K     |████████████████████████████████| 245kB 45.4MB/s \n",
            "\u001b[K     |████████████████████████████████| 3.1MB 35.0MB/s \n",
            "\u001b[K     |████████████████████████████████| 1.7MB 43.2MB/s \n",
            "\u001b[K     |████████████████████████████████| 1.2MB 31.8MB/s \n",
            "\u001b[K     |████████████████████████████████| 184kB 45.4MB/s \n",
            "\u001b[K     |████████████████████████████████| 368kB 38.8MB/s \n",
            "\u001b[K     |████████████████████████████████| 7.1MB 25.8MB/s \n",
            "\u001b[K     |████████████████████████████████| 92kB 5.0MB/s \n",
            "\u001b[K     |████████████████████████████████| 460kB 34.1MB/s \n",
            "\u001b[K     |████████████████████████████████| 757kB 32.6MB/s \n",
            "\u001b[K     |████████████████████████████████| 512kB 39.7MB/s \n",
            "\u001b[?25h  Building wheel for configargparse (setup.py) ... \u001b[?25l\u001b[?25hdone\n",
            "  Building wheel for chainer (setup.py) ... \u001b[?25l\u001b[?25hdone\n",
            "  Building wheel for librosa (setup.py) ... \u001b[?25l\u001b[?25hdone\n",
            "  Building wheel for pysptk (setup.py) ... \u001b[?25l\u001b[?25hdone\n",
            "  Building wheel for nltk (setup.py) ... \u001b[?25l\u001b[?25hdone\n",
            "  Building wheel for PyYAML (setup.py) ... \u001b[?25l\u001b[?25hdone\n",
            "  Building wheel for kaldiio (setup.py) ... \u001b[?25l\u001b[?25hdone\n",
            "  Building wheel for jaconv (setup.py) ... \u001b[?25l\u001b[?25hdone\n",
            "  Building wheel for nnmnkwii (setup.py) ... \u001b[?25l\u001b[?25hdone\n",
            "  Building wheel for pystoi (setup.py) ... \u001b[?25l\u001b[?25hdone\n",
            "  Building wheel for distance (setup.py) ... \u001b[?25l\u001b[?25hdone\n",
            "  Building wheel for bandmat (setup.py) ... \u001b[?25l\u001b[?25hdone\n",
            "  Building wheel for simplejson (setup.py) ... \u001b[?25l\u001b[?25hdone\n",
            "  Building wheel for clint (setup.py) ... \u001b[?25l\u001b[?25hdone\n",
            "  Building wheel for args (setup.py) ... \u001b[?25l\u001b[?25hdone\n",
            "\u001b[31mERROR: tensorflow 2.2.0 has requirement h5py<2.11.0,>=2.10.0, but you'll have h5py 2.9.0 which is incompatible.\u001b[0m\n",
            "\u001b[31mERROR: tensorflow 2.2.0 has requirement protobuf>=3.8.0, but you'll have protobuf 3.7.1 which is incompatible.\u001b[0m\n",
            "\u001b[31mERROR: tensorflow-hub 0.8.0 has requirement protobuf>=3.8.0, but you'll have protobuf 3.7.1 which is incompatible.\u001b[0m\n",
            "\u001b[31mERROR: tensorboardx 2.0 has requirement protobuf>=3.8.0, but you'll have protobuf 3.7.1 which is incompatible.\u001b[0m\n",
            "\u001b[31mERROR: languageflow 1.1.13a1 has requirement joblib==0.13.2, but you'll have joblib 0.14.1 which is incompatible.\u001b[0m\n",
            "\u001b[31mERROR: languageflow 1.1.13a1 has requirement scikit-learn==0.20.3, but you'll have scikit-learn 0.22.2.post1 which is incompatible.\u001b[0m\n",
            "\u001b[31mERROR: underthesea 1.1.17 has requirement nltk<3.5,>=3.4, but you'll have nltk 3.5 which is incompatible.\u001b[0m\n",
            "--2020-05-17 23:44:04--  https://drive.google.com/uc?export=download&id=13Y4tSygc8WtqzvAVGK_vRV9GlV7TRC0w\n",
            "Resolving drive.google.com (drive.google.com)... 74.125.133.113, 74.125.133.101, 74.125.133.102, ...\n",
            "Connecting to drive.google.com (drive.google.com)|74.125.133.113|:443... connected.\n",
            "HTTP request sent, awaiting response... 200 OK\n",
            "Length: unspecified [text/html]\n",
            "Saving to: ‘espnet/tools/isqDAe.tar.gz’\n",
            "\n",
            "espnet/tools/isqDAe     [ <=>                ]   3.22K  --.-KB/s    in 0s      \n",
            "\n",
            "2020-05-17 23:44:04 (33.0 MB/s) - ‘espnet/tools/isqDAe.tar.gz’ saved [3296]\n",
            "\n",
            "\n",
            "gzip: stdin: not in gzip format\n",
            "tar: Child returned status 1\n",
            "tar: Error is not recoverable: exiting now\n",
            "  % Total    % Received % Xferd  Average Speed   Time    Time     Time  Current\n",
            "                                 Dload  Upload   Total   Spent    Left  Speed\n",
            "100  3296    0  3296    0     0  13027      0 --:--:-- --:--:-- --:--:-- 13027\n",
            "  % Total    % Received % Xferd  Average Speed   Time    Time     Time  Current\n",
            "                                 Dload  Upload   Total   Spent    Left  Speed\n",
            "100   408    0   408    0     0   1813      0 --:--:-- --:--:-- --:--:--  1813\n",
            "  0     0    0     0    0     0      0      0 --:--:-- --:--:-- --:--:--     0\n",
            "  0     0    0     0    0     0      0      0 --:--:-- --:--:-- --:--:--     0\n",
            "100  662M    0  662M    0     0   115M      0 --:--:--  0:00:05 --:--:--  134M\n",
            "Processing ./dist/warpctc_pytorch-0.1.1-cp36-cp36m-linux_x86_64.whl\n",
            "Installing collected packages: warpctc-pytorch\n",
            "Successfully installed warpctc-pytorch-0.1.1\n",
            "setup done.\n"
          ],
          "name": "stdout"
        }
      ]
    },
    {
      "cell_type": "markdown",
      "metadata": {
        "id": "x8GCEhUqlIeX",
        "colab_type": "text"
      },
      "source": [
        "1) manually replace the \"run.sh\" file from provided \"Training_TTS\" with the \"run.sh\" file from \"/content/espnet/egs/vcc20/tts1_en_de/ folder. Or you can replace using the \"run.sh\" from \"Training_TTS\" on GitHub repository https://github.com/SSobirov/English_to_Russian-TTS-MelGAN\n"
      ]
    },
    {
      "cell_type": "markdown",
      "metadata": {
        "id": "di_99FeN-0Ej",
        "colab_type": "text"
      },
      "source": [
        "2) Upload all files from \"tools\" folder to this runtime and run the codes below. First it will move files to their location and then it will give execution permission for each of them"
      ]
    },
    {
      "cell_type": "code",
      "metadata": {
        "id": "eNMtJiIXs0vZ",
        "colab_type": "code",
        "colab": {}
      },
      "source": [
        "!mv /content/compute-vad /content/espnet/tools/kaldi/src/ivectorbin\n",
        "!mv /content/copy-vector /content/espnet/tools/kaldi/src/bin\n",
        "!mv /content/select-voiced-frames /content/espnet/tools/kaldi/src/ivectorbin\n",
        "!mv /content/ivector-mean /content/espnet/tools/kaldi/src/ivectorbin\n",
        "!mv /content/nnet3-xvector-compute /content/espnet/tools/kaldi/src/nnet3bin/\n",
        "!mv /content/nnet3-copy /content/espnet/tools/kaldi/src/nnet3bin/"
      ],
      "execution_count": 0,
      "outputs": []
    },
    {
      "cell_type": "code",
      "metadata": {
        "id": "_TOT52B_K1wd",
        "colab_type": "code",
        "colab": {}
      },
      "source": [
        "!chmod +x /content/espnet/tools/kaldi/src/ivectorbin/compute-vad\n",
        "!chmod +x /content/espnet/tools/kaldi/src/ivectorbin/ivector-mean\n",
        "!chmod +x /content/espnet/tools/kaldi/src/bin/copy-vector\n",
        "!chmod +x /content/espnet/tools/kaldi/src/ivectorbin/select-voiced-frames\n",
        "!chmod +x /content/espnet/tools/kaldi/src/nnet3bin/nnet3-xvector-compute\n",
        "!chmod +x /content/espnet/tools/kaldi/src/nnet3bin/nnet3-copy"
      ],
      "execution_count": 0,
      "outputs": []
    },
    {
      "cell_type": "code",
      "metadata": {
        "id": "HeS05WLnd5Px",
        "colab_type": "code",
        "outputId": "52052c04-3651-4bac-bfd5-4efc97ef8784",
        "colab": {
          "base_uri": "https://localhost:8080/",
          "height": 35
        }
      },
      "source": [
        "cd /content/espnet/egs/vcc20/tts1_en_de/"
      ],
      "execution_count": 6,
      "outputs": [
        {
          "output_type": "stream",
          "text": [
            "/content/espnet/egs/vcc20/tts1_en_de\n"
          ],
          "name": "stdout"
        }
      ]
    },
    {
      "cell_type": "markdown",
      "metadata": {
        "id": "iNlfJ1oY_Mhe",
        "colab_type": "text"
      },
      "source": [
        "Some audio files were damages, therefore, they were deleted using \"rm -rf ._*\" command. The code below will first download datasets from M-AILABS. Then delete damaged files. Finally, it will start traing TTS.\n",
        "Before running the code below dont forget to replace the \"run.sh\" as specified above."
      ]
    },
    {
      "cell_type": "code",
      "metadata": {
        "id": "VIlwNw1veGtf",
        "colab_type": "code",
        "colab": {}
      },
      "source": [
        "!./run.sh --stage -1 --stop_stage -1\n",
        "!cd /content/espnet/egs/m_ailabs/tts1/downloads/ru_RU/by_book/male/minaev/oblomov/wavs/ && rm -rf ._*\n",
        "!./run.sh --stage 0 --stop_stage 4"
      ],
      "execution_count": 0,
      "outputs": []
    },
    {
      "cell_type": "markdown",
      "metadata": {
        "id": "VOTHx-OXDYqt",
        "colab_type": "text"
      },
      "source": [
        "At the end of training, the trained model will be located in /content/espnet/egs/vcc20/tts1_en_de/exp/"
      ]
    }
  ]
}